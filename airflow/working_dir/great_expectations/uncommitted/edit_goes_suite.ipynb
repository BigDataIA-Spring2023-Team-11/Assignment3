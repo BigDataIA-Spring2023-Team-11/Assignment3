{
 "cells": [
  {
   "cell_type": "markdown",
   "id": "2c9f5912",
   "metadata": {},
   "source": [
    "# Edit Your Expectation Suite\n",
    "Use this notebook to recreate and modify your expectation suite:\n",
    "\n",
    "**Expectation Suite Name**: `goes_suite`\n"
   ]
  },
  {
   "cell_type": "code",
   "execution_count": 1,
   "id": "84815d4b",
   "metadata": {},
   "outputs": [
    {
     "name": "stdout",
     "output_type": "stream",
     "text": [
      "2023-03-02T01:51:18-0500 - INFO - Great Expectations logging enabled at 20 level by JupyterUX module.\n",
      "2023-03-02T01:51:18-0500 - INFO - FileDataContext loading zep config\n",
      "2023-03-02T01:51:18-0500 - INFO - GxConfig.parse_yaml() failed with errors - [{'loc': ('xdatasources',), 'msg': 'field required', 'type': 'value_error.missing'}]\n",
      "2023-03-02T01:51:18-0500 - INFO - GxConfig.parse_yaml() returning empty `xdatasources`\n",
      "2023-03-02T01:51:18-0500 - INFO - Loading 'datasources' ->\n",
      "{}\n",
      "2023-03-02T01:51:18-0500 - INFO - Loaded 'datasources' ->\n",
      "{}\n",
      "Loaded ExpectationSuite \"goes_suite\" containing 2 expectations.\n"
     ]
    }
   ],
   "source": [
    "import datetime\n",
    "\n",
    "import pandas as pd\n",
    "\n",
    "import great_expectations as gx\n",
    "import great_expectations.jupyter_ux\n",
    "from great_expectations.core.expectation_configuration import ExpectationConfiguration\n",
    "from great_expectations.data_context.types.resource_identifiers import (\n",
    "    ExpectationSuiteIdentifier,\n",
    ")\n",
    "from great_expectations.exceptions import DataContextError\n",
    "\n",
    "context = gx.get_context()\n",
    "\n",
    "\n",
    "# Feel free to change the name of your suite here. Renaming this will not remove the other one.\n",
    "expectation_suite_name = \"goes_suite\"\n",
    "try:\n",
    "    suite = context.get_expectation_suite(expectation_suite_name=expectation_suite_name)\n",
    "    print(\n",
    "        f'Loaded ExpectationSuite \"{suite.expectation_suite_name}\" containing {len(suite.expectations)} expectations.'\n",
    "    )\n",
    "except DataContextError:\n",
    "    suite = context.add_expectation_suite(expectation_suite_name=expectation_suite_name)\n",
    "    print(f'Created ExpectationSuite \"{suite.expectation_suite_name}\".')"
   ]
  },
  {
   "cell_type": "markdown",
   "id": "618f6965",
   "metadata": {},
   "source": [
    "## Create & Edit Expectations\n",
    "\n",
    "\n",
    "You are adding Expectation configurations to the suite. Since you selected manual mode, there is no sample batch of data and no validation happens during this process. See our documentation for more info and examples: **[How to create a new Expectation Suite without a sample batch](https://docs.greatexpectations.io/docs/guides/expectations/how_to_create_and_edit_expectations_based_on_domain_knowledge_without_inspecting_data_directly)**.\n",
    "\n",
    "Note that if you do use interactive mode you may specify a sample batch of data to use when creating your Expectation Suite. You can then use a `validator` to get immediate feedback on your Expectations against your specified sample batch.\n",
    "\n",
    "\n",
    "You can see all the available expectations in the **[expectation gallery](https://greatexpectations.io/expectations)**."
   ]
  },
  {
   "cell_type": "markdown",
   "id": "0d9f20f0",
   "metadata": {},
   "source": [
    "### Table Expectation(s)"
   ]
  },
  {
   "cell_type": "code",
   "execution_count": 2,
   "id": "1c391c7b",
   "metadata": {},
   "outputs": [
    {
     "data": {
      "text/plain": [
       "{\"kwargs\": {\"max_value\": 10000, \"min_value\": 0}, \"expectation_type\": \"expect_table_row_count_to_be_between\", \"meta\": {\"profiler_details\": {\"metric_configuration\": {\"domain_kwargs\": {}, \"metric_name\": \"table.row_count\", \"metric_value_kwargs\": null}, \"num_batches\": 1}}}"
      ]
     },
     "execution_count": 2,
     "metadata": {},
     "output_type": "execute_result"
    }
   ],
   "source": [
    "expectation_configuration = ExpectationConfiguration(\n",
    "    **{\n",
    "        \"meta\": {\n",
    "            \"profiler_details\": {\n",
    "                \"metric_configuration\": {\n",
    "                    \"domain_kwargs\": {},\n",
    "                    \"metric_name\": \"table.row_count\",\n",
    "                    \"metric_value_kwargs\": None,\n",
    "                },\n",
    "                \"num_batches\": 1,\n",
    "            }\n",
    "        },\n",
    "        \"expectation_type\": \"expect_table_row_count_to_be_between\",\n",
    "        \"kwargs\": {\"max_value\": 10000, \"min_value\": 0},\n",
    "    }\n",
    ")\n",
    "suite.add_expectation(expectation_configuration=expectation_configuration)"
   ]
  },
  {
   "cell_type": "markdown",
   "id": "92b77c7c",
   "metadata": {},
   "source": [
    "### Column Expectation(s)"
   ]
  },
  {
   "cell_type": "code",
   "execution_count": 4,
   "id": "333524dd",
   "metadata": {},
   "outputs": [
    {
     "data": {
      "text/plain": [
       "{\"kwargs\": {\"column\": \"year\"}, \"expectation_type\": \"expect_column_values_to_not_be_null\", \"meta\": {\"profiler_details\": {\"metric_configuration\": {\"domain_kwargs\": {\"column\": \"year\"}, \"metric_name\": \"column_values.nonnull.unexpected_count\", \"metric_value_kwargs\": null}, \"num_batches\": 1}}}"
      ]
     },
     "execution_count": 4,
     "metadata": {},
     "output_type": "execute_result"
    }
   ],
   "source": [
    "expectation_configuration = ExpectationConfiguration(\n",
    "    **{\n",
    "        \"meta\": {\n",
    "        \"profiler_details\": {\n",
    "          \"metric_configuration\": {\n",
    "            \"domain_kwargs\": {\n",
    "              \"column\": \"year\"\n",
    "            },\n",
    "            \"metric_name\": \"column_values.nonnull.unexpected_count\",\n",
    "            \"metric_value_kwargs\": None\n",
    "          },\n",
    "          \"num_batches\": 1\n",
    "        }\n",
    "      },\n",
    "        \"expectation_type\": \"expect_column_values_to_not_be_null\",\n",
    "        \"kwargs\": {\"column\": \"year\"},\n",
    "    }\n",
    ")\n",
    "suite.add_expectation(expectation_configuration=expectation_configuration)"
   ]
  },
  {
   "cell_type": "code",
   "execution_count": 5,
   "id": "4fd818dd",
   "metadata": {},
   "outputs": [
    {
     "data": {
      "text/plain": [
       "{\"kwargs\": {\"column\": \"hour\"}, \"expectation_type\": \"expect_column_values_to_not_be_null\", \"meta\": {\"profiler_details\": {\"metric_configuration\": {\"domain_kwargs\": {\"column\": \"hour\"}, \"metric_name\": \"column_values.nonnull.unexpected_count\", \"metric_value_kwargs\": null}, \"num_batches\": 1}}}"
      ]
     },
     "execution_count": 5,
     "metadata": {},
     "output_type": "execute_result"
    }
   ],
   "source": [
    "expectation_configuration = ExpectationConfiguration(\n",
    "    **{\n",
    "        \"expectation_type\": \"expect_column_values_to_not_be_null\",\n",
    "      \"kwargs\": {\n",
    "        \"column\": \"hour\"\n",
    "      },\n",
    "      \"meta\": {\n",
    "        \"profiler_details\": {\n",
    "          \"metric_configuration\": {\n",
    "            \"domain_kwargs\": {\n",
    "              \"column\": \"hour\"\n",
    "            },\n",
    "            \"metric_name\": \"column_values.nonnull.unexpected_count\",\n",
    "            \"metric_value_kwargs\": None\n",
    "          },\n",
    "          \"num_batches\": 1\n",
    "        }\n",
    "      }\n",
    "    }\n",
    ")\n",
    "suite.add_expectation(expectation_configuration=expectation_configuration)"
   ]
  },
  {
   "cell_type": "code",
   "execution_count": 6,
   "id": "780fba20",
   "metadata": {},
   "outputs": [
    {
     "data": {
      "text/plain": [
       "{\"kwargs\": {\"column\": \"day\"}, \"expectation_type\": \"expect_column_values_to_not_be_null\", \"meta\": {\"profiler_details\": {\"metric_configuration\": {\"domain_kwargs\": {\"column\": \"day\"}, \"metric_name\": \"column_values.nonnull.unexpected_count\", \"metric_value_kwargs\": null}, \"num_batches\": 1}}}"
      ]
     },
     "execution_count": 6,
     "metadata": {},
     "output_type": "execute_result"
    }
   ],
   "source": [
    "expectation_configuration = ExpectationConfiguration(\n",
    "    **{\n",
    "        \"expectation_type\": \"expect_column_values_to_not_be_null\",\n",
    "      \"kwargs\": {\n",
    "        \"column\": \"day\"\n",
    "      },\n",
    "      \"meta\": {\n",
    "        \"profiler_details\": {\n",
    "          \"metric_configuration\": {\n",
    "            \"domain_kwargs\": {\n",
    "              \"column\": \"day\"\n",
    "            },\n",
    "            \"metric_name\": \"column_values.nonnull.unexpected_count\",\n",
    "            \"metric_value_kwargs\": None\n",
    "          },\n",
    "          \"num_batches\": 1\n",
    "        }\n",
    "      }\n",
    "    }\n",
    ")\n",
    "suite.add_expectation(expectation_configuration=expectation_configuration)"
   ]
  },
  {
   "cell_type": "code",
   "execution_count": 8,
   "id": "f202f6d2",
   "metadata": {},
   "outputs": [
    {
     "data": {
      "text/plain": [
       "{\"kwargs\": {\"column\": \"hour\", \"max_value\": 0, \"min_value\": 0, \"strict_max\": false, \"strict_min\": false}, \"expectation_type\": \"expect_column_min_to_be_between\", \"meta\": {\"profiler_details\": {\"metric_configuration\": {\"domain_kwargs\": {\"column\": \"hour\"}, \"metric_name\": \"column.min\", \"metric_value_kwargs\": null}, \"num_batches\": 1}}}"
      ]
     },
     "execution_count": 8,
     "metadata": {},
     "output_type": "execute_result"
    }
   ],
   "source": [
    "expectation_configuration = ExpectationConfiguration(\n",
    "    **{\n",
    "        \"expectation_type\": \"expect_column_min_to_be_between\",\n",
    "      \"kwargs\": {\n",
    "        \"column\": \"hour\",\n",
    "        \"max_value\": 0,\n",
    "        \"min_value\": 0,\n",
    "        \"strict_max\": False,\n",
    "        \"strict_min\": False\n",
    "      },\n",
    "      \"meta\": {\n",
    "        \"profiler_details\": {\n",
    "          \"metric_configuration\": {\n",
    "            \"domain_kwargs\": {\n",
    "              \"column\": \"hour\"\n",
    "            },\n",
    "            \"metric_name\": \"column.min\",\n",
    "            \"metric_value_kwargs\": None\n",
    "          },\n",
    "          \"num_batches\": 1\n",
    "        }\n",
    "      }\n",
    "    }\n",
    ")\n",
    "suite.add_expectation(expectation_configuration=expectation_configuration)"
   ]
  },
  {
   "cell_type": "code",
   "execution_count": 9,
   "id": "1563c714",
   "metadata": {},
   "outputs": [
    {
     "data": {
      "text/plain": [
       "{\"kwargs\": {\"column\": \"hour\", \"max_value\": 23, \"min_value\": 0, \"strict_max\": false, \"strict_min\": false}, \"expectation_type\": \"expect_column_max_to_be_between\", \"meta\": {\"profiler_details\": {\"metric_configuration\": {\"domain_kwargs\": {\"column\": \"hour\"}, \"metric_name\": \"column.max\", \"metric_value_kwargs\": null}, \"num_batches\": 1}}}"
      ]
     },
     "execution_count": 9,
     "metadata": {},
     "output_type": "execute_result"
    }
   ],
   "source": [
    "expectation_configuration = ExpectationConfiguration(\n",
    "    **{\n",
    "        \"expectation_type\": \"expect_column_max_to_be_between\",\n",
    "      \"kwargs\": {\n",
    "        \"column\": \"hour\",\n",
    "        \"max_value\": 23,\n",
    "        \"min_value\": 0,\n",
    "        \"strict_max\": False,\n",
    "        \"strict_min\": False\n",
    "      },\n",
    "      \"meta\": {\n",
    "        \"profiler_details\": {\n",
    "          \"metric_configuration\": {\n",
    "            \"domain_kwargs\": {\n",
    "              \"column\": \"hour\"\n",
    "            },\n",
    "            \"metric_name\": \"column.max\",\n",
    "            \"metric_value_kwargs\": None\n",
    "          },\n",
    "          \"num_batches\": 1\n",
    "        }\n",
    "      }\n",
    "    }\n",
    ")\n",
    "suite.add_expectation(expectation_configuration=expectation_configuration)"
   ]
  },
  {
   "cell_type": "code",
   "execution_count": 10,
   "id": "9ee5b110",
   "metadata": {},
   "outputs": [
    {
     "data": {
      "text/plain": [
       "{\"kwargs\": {\"column\": \"year\", \"max_value\": 2023, \"min_value\": 2022, \"mostly\": 1.0, \"strict_max\": false, \"strict_min\": false}, \"expectation_type\": \"expect_column_values_to_be_between\", \"meta\": {\"profiler_details\": {\"column_max_values_range_estimator\": {\"metric_configuration\": {\"domain_kwargs\": {\"column\": \"year\"}, \"metric_name\": \"column.max\", \"metric_value_kwargs\": null}, \"num_batches\": 1}, \"column_min_values_range_estimator\": {\"metric_configuration\": {\"domain_kwargs\": {\"column\": \"year\"}, \"metric_name\": \"column.min\", \"metric_value_kwargs\": null}, \"num_batches\": 1}}}}"
      ]
     },
     "execution_count": 10,
     "metadata": {},
     "output_type": "execute_result"
    }
   ],
   "source": [
    "expectation_configuration = ExpectationConfiguration(\n",
    "    **{\n",
    "        \"expectation_type\": \"expect_column_values_to_be_between\",\n",
    "      \"kwargs\": {\n",
    "        \"column\": \"year\",\n",
    "        \"max_value\": 2023,\n",
    "        \"min_value\": 2022,\n",
    "        \"mostly\": 1.0,\n",
    "        \"strict_max\": False,\n",
    "        \"strict_min\": False\n",
    "      },\n",
    "      \"meta\": {\n",
    "        \"profiler_details\": {\n",
    "          \"column_max_values_range_estimator\": {\n",
    "            \"metric_configuration\": {\n",
    "              \"domain_kwargs\": {\n",
    "                \"column\": \"year\"\n",
    "              },\n",
    "              \"metric_name\": \"column.max\",\n",
    "              \"metric_value_kwargs\": None\n",
    "            },\n",
    "            \"num_batches\": 1\n",
    "          },\n",
    "          \"column_min_values_range_estimator\": {\n",
    "            \"metric_configuration\": {\n",
    "              \"domain_kwargs\": {\n",
    "                \"column\": \"year\"\n",
    "              },\n",
    "              \"metric_name\": \"column.min\",\n",
    "              \"metric_value_kwargs\": None\n",
    "            },\n",
    "            \"num_batches\": 1\n",
    "          }\n",
    "        }\n",
    "    }\n",
    "    }\n",
    ")\n",
    "suite.add_expectation(expectation_configuration=expectation_configuration)"
   ]
  },
  {
   "cell_type": "code",
   "execution_count": 11,
   "id": "b0f0faff",
   "metadata": {},
   "outputs": [
    {
     "data": {
      "text/plain": [
       "{\"kwargs\": {\"column\": \"day\", \"max_value\": 365, \"min_value\": 0, \"mostly\": 1.0, \"strict_max\": false, \"strict_min\": false}, \"expectation_type\": \"expect_column_values_to_be_between\", \"meta\": {\"profiler_details\": {\"column_max_values_range_estimator\": {\"metric_configuration\": {\"domain_kwargs\": {\"column\": \"day\"}, \"metric_name\": \"column.max\", \"metric_value_kwargs\": null}, \"num_batches\": 1}, \"column_min_values_range_estimator\": {\"metric_configuration\": {\"domain_kwargs\": {\"column\": \"day\"}, \"metric_name\": \"column.min\", \"metric_value_kwargs\": null}, \"num_batches\": 1}}}}"
      ]
     },
     "execution_count": 11,
     "metadata": {},
     "output_type": "execute_result"
    }
   ],
   "source": [
    "expectation_configuration = ExpectationConfiguration(\n",
    "    **{\n",
    "        \n",
    "      \"expectation_type\": \"expect_column_values_to_be_between\",\n",
    "      \"kwargs\": {\n",
    "        \"column\": \"day\",\n",
    "        \"max_value\": 365,\n",
    "        \"min_value\": 0,\n",
    "        \"mostly\": 1.0,\n",
    "        \"strict_max\": False,\n",
    "        \"strict_min\": False\n",
    "      },\n",
    "      \"meta\": {\n",
    "        \"profiler_details\": {\n",
    "          \"column_max_values_range_estimator\": {\n",
    "            \"metric_configuration\": {\n",
    "              \"domain_kwargs\": {\n",
    "                \"column\": \"day\"\n",
    "              },\n",
    "              \"metric_name\": \"column.max\",\n",
    "              \"metric_value_kwargs\": None\n",
    "            },\n",
    "            \"num_batches\": 1\n",
    "          },\n",
    "          \"column_min_values_range_estimator\": {\n",
    "            \"metric_configuration\": {\n",
    "              \"domain_kwargs\": {\n",
    "                \"column\": \"day\"\n",
    "              },\n",
    "              \"metric_name\": \"column.min\",\n",
    "              \"metric_value_kwargs\": None\n",
    "            },\n",
    "            \"num_batches\": 1\n",
    "          }\n",
    "        }\n",
    "      }\n",
    "    }\n",
    ")\n",
    "suite.add_expectation(expectation_configuration=expectation_configuration)"
   ]
  },
  {
   "cell_type": "code",
   "execution_count": 12,
   "id": "f3984500",
   "metadata": {},
   "outputs": [
    {
     "data": {
      "text/plain": [
       "{\"kwargs\": {\"column_set\": [\"index\", \"year\", \"day\", \"hour\"]}, \"expectation_type\": \"expect_table_columns_to_match_set\", \"meta\": {\"profiler_details\": {\"success_ratio\": 1.0}}}"
      ]
     },
     "execution_count": 12,
     "metadata": {},
     "output_type": "execute_result"
    }
   ],
   "source": [
    "expectation_configuration = ExpectationConfiguration(\n",
    "    **{\n",
    "        \n",
    "      \"expectation_type\": \"expect_table_columns_to_match_set\",\n",
    "      \"kwargs\": {\n",
    "        \"column_set\": [\n",
    "          \"index\",\n",
    "          \"year\",\n",
    "          \"day\",\n",
    "          \"hour\"\n",
    "        ]\n",
    "      },\n",
    "      \"meta\": {\n",
    "        \"profiler_details\": {\n",
    "          \"success_ratio\": 1.0\n",
    "        }\n",
    "      }\n",
    "    }\n",
    ")\n",
    "suite.add_expectation(expectation_configuration=expectation_configuration)"
   ]
  },
  {
   "cell_type": "markdown",
   "id": "55507b56",
   "metadata": {},
   "source": [
    "\n"
   ]
  },
  {
   "cell_type": "markdown",
   "id": "a84d68e0",
   "metadata": {},
   "source": [
    "## Review & Save Your Expectations\n",
    "\n",
    "Let's save the expectation suite as a JSON file in the `great_expectations/expectations` directory of your project.\n",
    "\n",
    "Let's now rebuild your Data Docs, which helps you communicate about your data with both machines and humans."
   ]
  },
  {
   "cell_type": "code",
   "execution_count": null,
   "id": "044a0821",
   "metadata": {},
   "outputs": [],
   "source": [
    "print(context.get_expectation_suite(expectation_suite_name=expectation_suite_name))\n",
    "context.add_or_update_expectation_suite(expectation_suite=suite)\n",
    "\n",
    "suite_identifier = ExpectationSuiteIdentifier(expectation_suite_name=expectation_suite_name)\n",
    "context.build_data_docs(resource_identifiers=[suite_identifier])\n",
    "context.open_data_docs(resource_identifier=suite_identifier)"
   ]
  }
 ],
 "metadata": {
  "kernelspec": {
   "display_name": "Python 3 (ipykernel)",
   "language": "python",
   "name": "python3"
  },
  "language_info": {
   "codemirror_mode": {
    "name": "ipython",
    "version": 3
   },
   "file_extension": ".py",
   "mimetype": "text/x-python",
   "name": "python",
   "nbconvert_exporter": "python",
   "pygments_lexer": "ipython3",
   "version": "3.9.13"
  }
 },
 "nbformat": 4,
 "nbformat_minor": 5
}
