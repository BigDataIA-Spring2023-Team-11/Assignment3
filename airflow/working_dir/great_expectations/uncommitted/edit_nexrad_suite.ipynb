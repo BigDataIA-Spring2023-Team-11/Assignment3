{
 "cells": [
  {
   "cell_type": "markdown",
   "id": "8e1fec04",
   "metadata": {},
   "source": [
    "# Edit Your Expectation Suite\n",
    "Use this notebook to recreate and modify your expectation suite:\n",
    "\n",
    "**Expectation Suite Name**: `nexrad_suite`\n"
   ]
  },
  {
   "cell_type": "code",
   "execution_count": null,
   "id": "bea981d3",
   "metadata": {},
   "outputs": [],
   "source": [
    "import datetime\n",
    "\n",
    "import pandas as pd\n",
    "\n",
    "import great_expectations as gx\n",
    "import great_expectations.jupyter_ux\n",
    "from great_expectations.core.expectation_configuration import ExpectationConfiguration\n",
    "from great_expectations.data_context.types.resource_identifiers import (\n",
    "    ExpectationSuiteIdentifier,\n",
    ")\n",
    "from great_expectations.exceptions import DataContextError\n",
    "\n",
    "context = gx.get_context()\n",
    "\n",
    "\n",
    "# Feel free to change the name of your suite here. Renaming this will not remove the other one.\n",
    "expectation_suite_name = \"nexrad_suite\"\n",
    "try:\n",
    "    suite = context.get_expectation_suite(expectation_suite_name=expectation_suite_name)\n",
    "    print(\n",
    "        f'Loaded ExpectationSuite \"{suite.expectation_suite_name}\" containing {len(suite.expectations)} expectations.'\n",
    "    )\n",
    "except DataContextError:\n",
    "    suite = context.add_expectation_suite(expectation_suite_name=expectation_suite_name)\n",
    "    print(f'Created ExpectationSuite \"{suite.expectation_suite_name}\".')"
   ]
  },
  {
   "cell_type": "markdown",
   "id": "da79dbbe",
   "metadata": {},
   "source": [
    "## Create & Edit Expectations\n",
    "\n",
    "\n",
    "You are adding Expectation configurations to the suite. Since you selected manual mode, there is no sample batch of data and no validation happens during this process. See our documentation for more info and examples: **[How to create a new Expectation Suite without a sample batch](https://docs.greatexpectations.io/docs/guides/expectations/how_to_create_and_edit_expectations_based_on_domain_knowledge_without_inspecting_data_directly)**.\n",
    "\n",
    "Note that if you do use interactive mode you may specify a sample batch of data to use when creating your Expectation Suite. You can then use a `validator` to get immediate feedback on your Expectations against your specified sample batch.\n",
    "\n",
    "\n",
    "You can see all the available expectations in the **[expectation gallery](https://greatexpectations.io/expectations)**."
   ]
  },
  {
   "cell_type": "markdown",
   "id": "23c70707",
   "metadata": {},
   "source": [
    "### Table Expectation(s)"
   ]
  },
  {
   "cell_type": "code",
   "execution_count": null,
   "id": "8e852d77",
   "metadata": {},
   "outputs": [],
   "source": [
    "expectation_configuration = ExpectationConfiguration(\n",
    "    **{\n",
    "        \"meta\": {\n",
    "            \"profiler_details\": {\n",
    "                \"metric_configuration\": {\n",
    "                    \"domain_kwargs\": {},\n",
    "                    \"metric_name\": \"table.row_count\",\n",
    "                    \"metric_value_kwargs\": None,\n",
    "                },\n",
    "                \"num_batches\": 1,\n",
    "            }\n",
    "        },\n",
    "        \"kwargs\": {\"max_value\": 1388739, \"min_value\": 1},\n",
    "        \"expectation_type\": \"expect_table_row_count_to_be_between\",\n",
    "    }\n",
    ")\n",
    "suite.add_expectation(expectation_configuration=expectation_configuration)"
   ]
  },
  {
   "cell_type": "code",
   "execution_count": null,
   "id": "6197f03a",
   "metadata": {},
   "outputs": [],
   "source": [
    "expectation_configuration = ExpectationConfiguration(\n",
    "    **{\n",
    "        \"meta\": {\"profiler_details\": {\"success_ratio\": 1.0}},\n",
    "        \"kwargs\": {\"column_set\": [\"id\",\"year\", \"month\", \"day\", \"station\"]},\n",
    "        \"expectation_type\": \"expect_table_columns_to_match_set\",\n",
    "    }\n",
    ")\n",
    "suite.add_expectation(expectation_configuration=expectation_configuration)"
   ]
  },
  {
   "cell_type": "markdown",
   "id": "23f3b7ef",
   "metadata": {},
   "source": [
    "### Column Expectation(s)"
   ]
  },
  {
   "cell_type": "markdown",
   "id": "72e577e5",
   "metadata": {},
   "source": [
    "#### `month`"
   ]
  },
  {
   "cell_type": "code",
   "execution_count": null,
   "id": "a8cf0b0e",
   "metadata": {},
   "outputs": [],
   "source": [
    "expectation_configuration = ExpectationConfiguration(\n",
    "    **{\n",
    "        \"meta\": {\n",
    "            \"profiler_details\": {\n",
    "                \"metric_configuration\": {\n",
    "                    \"domain_kwargs\": {\"column\": \"month\"},\n",
    "                    \"metric_name\": \"column_values.nonnull.unexpected_count\",\n",
    "                    \"metric_value_kwargs\": None,\n",
    "                },\n",
    "                \"num_batches\": 1,\n",
    "            }\n",
    "        },\n",
    "        \"kwargs\": {\"column\": \"month\"},\n",
    "        \"expectation_type\": \"expect_column_values_to_not_be_null\",\n",
    "    }\n",
    ")\n",
    "suite.add_expectation(expectation_configuration=expectation_configuration)"
   ]
  },
  {
   "cell_type": "code",
   "execution_count": null,
   "id": "d05826d2",
   "metadata": {},
   "outputs": [],
   "source": [
    "expectation_configuration = ExpectationConfiguration(\n",
    "    **{\n",
    "        \"meta\": {\n",
    "            \"profiler_details\": {\n",
    "                \"column_max_values_range_estimator\": {\n",
    "                    \"metric_configuration\": {\n",
    "                        \"domain_kwargs\": {\"column\": \"month\"},\n",
    "                        \"metric_name\": \"column.max\",\n",
    "                        \"metric_value_kwargs\": None,\n",
    "                    },\n",
    "                    \"num_batches\": 1,\n",
    "                },\n",
    "                \"column_min_values_range_estimator\": {\n",
    "                    \"metric_configuration\": {\n",
    "                        \"domain_kwargs\": {\"column\": \"month\"},\n",
    "                        \"metric_name\": \"column.min\",\n",
    "                        \"metric_value_kwargs\": None,\n",
    "                    },\n",
    "                    \"num_batches\": 1,\n",
    "                },\n",
    "            }\n",
    "        },\n",
    "        \"kwargs\": {\n",
    "            \"column\": \"month\",\n",
    "            \"max_value\": 12,\n",
    "            \"min_value\": 1,\n",
    "            \"mostly\": 1.0,\n",
    "            \"strict_max\": False,\n",
    "            \"strict_min\": False,\n",
    "        },\n",
    "        \"expectation_type\": \"expect_column_values_to_be_between\",\n",
    "    }\n",
    ")\n",
    "suite.add_expectation(expectation_configuration=expectation_configuration)"
   ]
  },
  {
   "cell_type": "code",
   "execution_count": null,
   "id": "25158b8e",
   "metadata": {},
   "outputs": [],
   "source": [
    "expectation_configuration = ExpectationConfiguration(\n",
    "    **{\n",
    "        \"meta\": {\n",
    "            \"profiler_details\": {\n",
    "                \"metric_configuration\": {\n",
    "                    \"domain_kwargs\": {\"column\": \"month\"},\n",
    "                    \"metric_name\": \"column.max\",\n",
    "                    \"metric_value_kwargs\": None,\n",
    "                },\n",
    "                \"num_batches\": 1,\n",
    "            }\n",
    "        },\n",
    "        \"kwargs\": {\n",
    "            \"column\": \"month\",\n",
    "            \"max_value\": 12,\n",
    "            \"min_value\": 1,\n",
    "            \"strict_max\": False,\n",
    "            \"strict_min\": False,\n",
    "        },\n",
    "        \"expectation_type\": \"expect_column_max_to_be_between\",\n",
    "    }\n",
    ")\n",
    "suite.add_expectation(expectation_configuration=expectation_configuration)"
   ]
  },
  {
   "cell_type": "markdown",
   "id": "1cbe1079",
   "metadata": {},
   "source": [
    "#### `station`"
   ]
  },
  {
   "cell_type": "code",
   "execution_count": null,
   "id": "164a2b1e",
   "metadata": {},
   "outputs": [],
   "source": [
    "expectation_configuration = ExpectationConfiguration(\n",
    "    **{\n",
    "        \"meta\": {\n",
    "            \"profiler_details\": {\n",
    "                \"metric_configuration\": {\n",
    "                    \"domain_kwargs\": {\"column\": \"station\"},\n",
    "                    \"metric_name\": \"column_values.nonnull.unexpected_count\",\n",
    "                    \"metric_value_kwargs\": None,\n",
    "                },\n",
    "                \"num_batches\": 1,\n",
    "            }\n",
    "        },\n",
    "        \"kwargs\": {\"column\": \"station\"},\n",
    "        \"expectation_type\": \"expect_column_values_to_not_be_null\",\n",
    "    }\n",
    ")\n",
    "suite.add_expectation(expectation_configuration=expectation_configuration)"
   ]
  },
  {
   "cell_type": "markdown",
   "id": "f33bfeaf",
   "metadata": {},
   "source": [
    "#### `day`"
   ]
  },
  {
   "cell_type": "code",
   "execution_count": null,
   "id": "ad3e7e7c",
   "metadata": {},
   "outputs": [],
   "source": []
  },
  {
   "cell_type": "code",
   "execution_count": null,
   "id": "2303d089",
   "metadata": {},
   "outputs": [],
   "source": [
    "expectation_configuration = ExpectationConfiguration(\n",
    "    **{\n",
    "        \"meta\": {\n",
    "            \"profiler_details\": {\n",
    "                \"column_max_values_range_estimator\": {\n",
    "                    \"metric_configuration\": {\n",
    "                        \"domain_kwargs\": {\"column\": \"day\"},\n",
    "                        \"metric_name\": \"column.max\",\n",
    "                        \"metric_value_kwargs\": None,\n",
    "                    },\n",
    "                    \"num_batches\": 1,\n",
    "                },\n",
    "                \"column_min_values_range_estimator\": {\n",
    "                    \"metric_configuration\": {\n",
    "                        \"domain_kwargs\": {\"column\": \"day\"},\n",
    "                        \"metric_name\": \"column.min\",\n",
    "                        \"metric_value_kwargs\": None,\n",
    "                    },\n",
    "                    \"num_batches\": 1,\n",
    "                },\n",
    "            }\n",
    "        },\n",
    "        \"kwargs\": {\n",
    "            \"column\": \"day\",\n",
    "            \"max_value\": 365,\n",
    "            \"min_value\": 1,\n",
    "            \"mostly\": 1.0,\n",
    "            \"strict_max\": False,\n",
    "            \"strict_min\": False,\n",
    "        },\n",
    "        \"expectation_type\": \"expect_column_values_to_be_between\",\n",
    "    }\n",
    ")\n",
    "suite.add_expectation(expectation_configuration=expectation_configuration)\n"
   ]
  },
  {
   "cell_type": "markdown",
   "id": "cebc36aa",
   "metadata": {},
   "source": [
    "#### `year`"
   ]
  },
  {
   "cell_type": "code",
   "execution_count": null,
   "id": "6855ac8f",
   "metadata": {},
   "outputs": [],
   "source": [
    "expectation_configuration = ExpectationConfiguration(\n",
    "    **{\n",
    "        \"meta\": {\n",
    "            \"profiler_details\": {\n",
    "                \"column_max_values_range_estimator\": {\n",
    "                    \"metric_configuration\": {\n",
    "                        \"domain_kwargs\": {\"column\": \"year\"},\n",
    "                        \"metric_name\": \"column.max\",\n",
    "                        \"metric_value_kwargs\": None,\n",
    "                    },\n",
    "                    \"num_batches\": 1,\n",
    "                },\n",
    "                \"column_min_values_range_estimator\": {\n",
    "                    \"metric_configuration\": {\n",
    "                        \"domain_kwargs\": {\"column\": \"year\"},\n",
    "                        \"metric_name\": \"column.min\",\n",
    "                        \"metric_value_kwargs\": None,\n",
    "                    },\n",
    "                    \"num_batches\": 1,\n",
    "                },\n",
    "            }\n",
    "        },\n",
    "        \"kwargs\": {\n",
    "            \"column\": \"year\",\n",
    "            \"max_value\": 2023,\n",
    "            \"min_value\": 1970,\n",
    "            \"mostly\": 1.0,\n",
    "            \"strict_max\": False,\n",
    "            \"strict_min\": False,\n",
    "        },\n",
    "        \"expectation_type\": \"expect_column_values_to_be_between\",\n",
    "    }\n",
    ")\n",
    "suite.add_expectation(expectation_configuration=expectation_configuration)"
   ]
  },
  {
   "cell_type": "markdown",
   "id": "72638043",
   "metadata": {},
   "source": [
    "## Review & Save Your Expectations\n",
    "\n",
    "Let's save the expectation suite as a JSON file in the `great_expectations/expectations` directory of your project.\n",
    "\n",
    "Let's now rebuild your Data Docs, which helps you communicate about your data with both machines and humans."
   ]
  },
  {
   "cell_type": "code",
   "execution_count": null,
   "id": "7c1900b7",
   "metadata": {},
   "outputs": [],
   "source": [
    "print(context.get_expectation_suite(expectation_suite_name=expectation_suite_name))\n",
    "context.add_or_update_expectation_suite(expectation_suite=suite)\n",
    "\n",
    "suite_identifier = ExpectationSuiteIdentifier(expectation_suite_name=expectation_suite_name)\n",
    "context.build_data_docs(resource_identifiers=[suite_identifier])\n",
    "context.open_data_docs(resource_identifier=suite_identifier)"
   ]
  }
 ],
 "metadata": {
  "kernelspec": {
   "display_name": "Python 3 (ipykernel)",
   "language": "python",
   "name": "python3"
  }
 },
 "nbformat": 4,
 "nbformat_minor": 5
}
